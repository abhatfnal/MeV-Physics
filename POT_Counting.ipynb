{
 "cells": [
  {
   "cell_type": "code",
   "execution_count": 1,
   "metadata": {},
   "outputs": [],
   "source": [
    "import uproot\n",
    "\n",
    "folder = \"gammacorrelation\"\n",
    "tree = \"Event_Correlationtree\""
   ]
  },
  {
   "cell_type": "code",
   "execution_count": 3,
   "metadata": {},
   "outputs": [],
   "source": [
    "ext = \"/uboone/data/users/abhat/GammaCatcher/prod_extbnb_swizzle_optfilter_inclusive_v3_C1_5121_5946_stride10_gamma3d_gammacorrelation_hadd.root\"\n"
   ]
  },
  {
   "cell_type": "code",
   "execution_count": 4,
   "metadata": {},
   "outputs": [],
   "source": [
    "ext_tree = uproot.open(ext)[folder][tree]"
   ]
  },
  {
   "cell_type": "code",
   "execution_count": 5,
   "metadata": {},
   "outputs": [],
   "source": [
    "df_ext = ext_tree.pandas.df([\"N_Run\", \"N_SubRun\"])\n",
    "df_ext.to_csv(r'run_subrun_ext_low_threshold.txt', header=None, index=None, sep=' ')"
   ]
  },
  {
   "cell_type": "code",
   "execution_count": 2,
   "metadata": {},
   "outputs": [],
   "source": [
    "bnb = \"/uboone/data/users/abhat/GammaCatcher/prod_bnb_swizzle_optfilter_inclusive_v3_C1_open_stride10_reco2_gamma3d_gammacorrelation_3tick_hadd.root\"\n",
    "bnb_tree = uproot.open(bnb)[folder][tree]\n",
    "df_bnb = bnb_tree.pandas.df([\"N_Run\", \"N_SubRun\"])\n",
    "df_bnb.to_csv(r'run_subrun_bnb_low_threshold.txt', header=None, index=None, sep=' ')\n"
   ]
  },
  {
   "cell_type": "code",
   "execution_count": null,
   "metadata": {},
   "outputs": [],
   "source": []
  }
 ],
 "metadata": {
  "kernelspec": {
   "display_name": "Python 2",
   "language": "python",
   "name": "python2"
  },
  "language_info": {
   "codemirror_mode": {
    "name": "ipython",
    "version": 2
   },
   "file_extension": ".py",
   "mimetype": "text/x-python",
   "name": "python",
   "nbconvert_exporter": "python",
   "pygments_lexer": "ipython2",
   "version": "2.7.14"
  }
 },
 "nbformat": 4,
 "nbformat_minor": 2
}
